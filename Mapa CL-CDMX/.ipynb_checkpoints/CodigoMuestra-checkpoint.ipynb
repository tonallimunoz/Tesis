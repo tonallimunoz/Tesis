{
 "cells": [
  {
   "cell_type": "code",
   "execution_count": null,
   "metadata": {},
   "outputs": [],
   "source": [
    "#Paquetes para obtener información de una URL (URIParser), Visualizador (VegaLite)\n",
    "using Pkg\n",
    "Pkg.add([\"URIParser\", \"VegaLite\"])\n",
    "using URIParser, VegaLite\n",
    "\n",
    "#Datos de irradiancia generados por el modelo SkyGlow\n",
    "cdmxirr = URI(\"https://raw.githubusercontent.com/tonallimunoz/Tesis/master/MapaCL-CDMX/irradianciasector.csv\")\n",
    "\n",
    "@vlplot(width=800, height=600) + \n",
    "@vlplot(\n",
    "    mark={ \n",
    "        :geoshape    \n",
    "    },\n",
    "    data={\n",
    "        url=URI(\"https://raw.githubusercontent.com/tonallimunoz/Tesis/master/MapaCL-CDMX/sectorescdmx.json\"), #Capa de sectores\n",
    "        format={\n",
    "            typ=:topojson, \n",
    "            feature=:\"OGRGeoJSON\"\n",
    "        }     \n",
    "    \n",
    "    },\n",
    "    #Asignar valores de irradiancia a capa de sectores\n",
    "    transform=[{ \n",
    "        lookup=\"properties.sector\",\n",
    "        from={\n",
    "            data={\n",
    "                url=cdmxirr,\n",
    "                format={\n",
    "                    typ=:csv\n",
    "                }\n",
    "            },\n",
    "            key=:Sectores,\n",
    "            fields=[\"Irradiancia\"]\n",
    "        }\n",
    "    }],\n",
    "    color={\n",
    "        \"Irradiancia:q\",\n",
    "        scale={domain=[2, 140], scheme=:reds},\n",
    "        legend={title=\"Irradiancia (W/m)\"}\n",
    "    },\n",
    "    projection={\n",
    "        typ=:albers\n",
    "    }\n",
    ")"
   ]
  }
 ],
 "metadata": {
  "kernelspec": {
   "display_name": "Julia 1.0.2",
   "language": "julia",
   "name": "julia-1.0"
  },
  "language_info": {
   "file_extension": ".jl",
   "mimetype": "application/julia",
   "name": "julia",
   "version": "1.0.2"
  }
 },
 "nbformat": 4,
 "nbformat_minor": 2
}
